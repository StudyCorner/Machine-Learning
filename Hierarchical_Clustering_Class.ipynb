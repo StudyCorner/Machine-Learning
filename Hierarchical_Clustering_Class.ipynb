{
  "nbformat": 4,
  "nbformat_minor": 0,
  "metadata": {
    "colab": {
      "provenance": []
    },
    "kernelspec": {
      "name": "python3",
      "display_name": "Python 3"
    },
    "language_info": {
      "name": "python"
    }
  },
  "cells": [
    {
      "cell_type": "code",
      "execution_count": null,
      "metadata": {
        "id": "yQvJz1TWSQkj"
      },
      "outputs": [],
      "source": []
    },
    {
      "cell_type": "markdown",
      "source": [
        "# Hierarchical Clustering Techniques has two approaches"
      ],
      "metadata": {
        "id": "7EEVA0pGSWn2"
      }
    },
    {
      "cell_type": "markdown",
      "source": [
        "# **Agglomerative**"
      ],
      "metadata": {
        "id": "tkRa7abASgC8"
      }
    },
    {
      "cell_type": "markdown",
      "source": [
        "Bottom-up approach , where in this algorithm starts with taking all data points as single clusters and merging them until one cluster is left"
      ],
      "metadata": {
        "id": "b4yZ60hQSjZo"
      }
    },
    {
      "cell_type": "markdown",
      "source": [
        "# **Divisive**"
      ],
      "metadata": {
        "id": "128TW4moS7Xs"
      }
    },
    {
      "cell_type": "markdown",
      "source": [
        "reverse of agglomerative algorithm follows top down approach"
      ],
      "metadata": {
        "id": "GPiQ6wzXS99A"
      }
    },
    {
      "cell_type": "markdown",
      "source": [
        "# **Code**"
      ],
      "metadata": {
        "id": "p3_3MnOaUxcg"
      }
    },
    {
      "cell_type": "code",
      "source": [
        "import numpy as np\n",
        "import pandas as pd\n",
        "import matplotlib.pyplot as plt"
      ],
      "metadata": {
        "id": "Y3dcAn6FSfhR"
      },
      "execution_count": null,
      "outputs": []
    },
    {
      "cell_type": "code",
      "source": [
        "x = [4,5,10,4,3,11,14,6,10,12]\n",
        "y = [21,19,24,17,16,25,24,22,21,21]"
      ],
      "metadata": {
        "id": "sSDATadtU3Rx"
      },
      "execution_count": null,
      "outputs": []
    },
    {
      "cell_type": "code",
      "source": [
        "plt.scatter(x,y)\n",
        "plt.show()"
      ],
      "metadata": {
        "colab": {
          "base_uri": "https://localhost:8080/",
          "height": 430
        },
        "id": "wgqSS7G5VAMy",
        "outputId": "85bcd415-9654-493d-ad3c-821b397a10dd"
      },
      "execution_count": null,
      "outputs": [
        {
          "output_type": "display_data",
          "data": {
            "text/plain": [
              "<Figure size 640x480 with 1 Axes>"
            ],
            "image/png": "[encoded data removed]"
          },
          "metadata": {}
        }
      ]
    },
    {
      "cell_type": "code",
      "source": [
        "from scipy.cluster.hierarchy import dendrogram, linkage"
      ],
      "metadata": {
        "id": "25TSdQrYVK2P"
      },
      "execution_count": null,
      "outputs": []
    },
    {
      "cell_type": "code",
      "source": [
        "help(linkage)"
      ],
      "metadata": {
        "colab": {
          "base_uri": "https://localhost:8080/"
        },
        "collapsed": true,
        "id": "VsxsNoQZVUCT",
        "outputId": "ef58c889-e528-41e2-ee38-1ba3d0867c11"
      },
      "execution_count": null,
      "outputs": [
        {
          "output_type": "stream",
          "name": "stdout",
          "text": [
            "Help on function linkage in module scipy.cluster.hierarchy:\n",
            "\n",
            "linkage(y, method='single', metric='euclidean', optimal_ordering=False)\n",
            "    Perform hierarchical/agglomerative clustering.\n",
            "    \n",
            "    The input y may be either a 1-D condensed distance matrix\n",
            "    or a 2-D array of observation vectors.\n",
            "    \n",
            "    If y is a 1-D condensed distance matrix,\n",
            "    then y must be a :math:`\\binom{n}{2}` sized\n",
            "    vector, where n is the number of original observations paired\n",
            "    in the distance matrix. The behavior of this function is very\n",
            "    similar to the MATLAB linkage function.\n",
            "    \n",
            "    A :math:`(n-1)` by 4 matrix ``Z`` is returned. At the\n",
            "    :math:`i`-th iteration, clusters with indices ``Z[i, 0]`` and\n",
            "    ``Z[i, 1]`` are combined to form cluster :math:`n + i`. A\n",
            "    cluster with an index less than :math:`n` corresponds to one of\n",
            "    the :math:`n` original observations. The distance between\n",
            "    clusters ``Z[i, 0]`` and ``Z[i, 1]`` is given by ``Z[i, 2]``. The\n",
            "    fourth value ``Z[i, 3]`` represents the number of original\n",
            "    observations in the newly formed cluster.\n",
            "    \n",
            "    The following linkage methods are used to compute the distance\n",
            "    :math:`d(s, t)` between two clusters :math:`s` and\n",
            "    :math:`t`. The algorithm begins with a forest of clusters that\n",
            "    have yet to be used in the hierarchy being formed. When two\n",
            "    clusters :math:`s` and :math:`t` from this forest are combined\n",
            "    into a single cluster :math:`u`, :math:`s` and :math:`t` are\n",
            "    removed from the forest, and :math:`u` is added to the\n",
            "    forest. When only one cluster remains in the forest, the algorithm\n",
            "    stops, and this cluster becomes the root.\n",
            "    \n",
            "    A distance matrix is maintained at each iteration. The ``d[i,j]``\n",
            "    entry corresponds to the distance between cluster :math:`i` and\n",
            "    :math:`j` in the original forest.\n",
            "    \n",
            "    At each iteration, the algorithm must update the distance matrix\n",
            "    to reflect the distance of the newly formed cluster u with the\n",
            "    remaining clusters in the forest.\n",
            "    \n",
            "    Suppose there are :math:`|u|` original observations\n",
            "    :math:`u[0], \\ldots, u[|u|-1]` in cluster :math:`u` and\n",
            "    :math:`|v|` original objects :math:`v[0], \\ldots, v[|v|-1]` in\n",
            "    cluster :math:`v`. Recall, :math:`s` and :math:`t` are\n",
            "    combined to form cluster :math:`u`. Let :math:`v` be any\n",
            "    remaining cluster in the forest that is not :math:`u`.\n",
            "    \n",
            "    The following are methods for calculating the distance between the\n",
            "    newly formed cluster :math:`u` and each :math:`v`.\n",
            "    \n",
            "      * method='single' assigns\n",
            "    \n",
            "        .. math::\n",
            "           d(u,v) = \\min(dist(u[i],v[j]))\n",
            "    \n",
            "        for all points :math:`i` in cluster :math:`u` and\n",
            "        :math:`j` in cluster :math:`v`. This is also known as the\n",
            "        Nearest Point Algorithm.\n",
            "    \n",
            "      * method='complete' assigns\n",
            "    \n",
            "        .. math::\n",
            "           d(u, v) = \\max(dist(u[i],v[j]))\n",
            "    \n",
            "        for all points :math:`i` in cluster u and :math:`j` in\n",
            "        cluster :math:`v`. This is also known by the Farthest Point\n",
            "        Algorithm or Voor Hees Algorithm.\n",
            "    \n",
            "      * method='average' assigns\n",
            "    \n",
            "        .. math::\n",
            "           d(u,v) = \\sum_{ij} \\frac{d(u[i], v[j])}\n",
            "                                   {(|u|*|v|)}\n",
            "    \n",
            "        for all points :math:`i` and :math:`j` where :math:`|u|`\n",
            "        and :math:`|v|` are the cardinalities of clusters :math:`u`\n",
            "        and :math:`v`, respectively. This is also called the UPGMA\n",
            "        algorithm.\n",
            "    \n",
            "      * method='weighted' assigns\n",
            "    \n",
            "        .. math::\n",
            "           d(u,v) = (dist(s,v) + dist(t,v))/2\n",
            "    \n",
            "        where cluster u was formed with cluster s and t and v\n",
            "        is a remaining cluster in the forest (also called WPGMA).\n",
            "    \n",
            "      * method='centroid' assigns\n",
            "    \n",
            "        .. math::\n",
            "           dist(s,t) = ||c_s-c_t||_2\n",
            "    \n",
            "        where :math:`c_s` and :math:`c_t` are the centroids of\n",
            "        clusters :math:`s` and :math:`t`, respectively. When two\n",
            "        clusters :math:`s` and :math:`t` are combined into a new\n",
            "        cluster :math:`u`, the new centroid is computed over all the\n",
            "        original objects in clusters :math:`s` and :math:`t`. The\n",
            "        distance then becomes the Euclidean distance between the\n",
            "        centroid of :math:`u` and the centroid of a remaining cluster\n",
            "        :math:`v` in the forest. This is also known as the UPGMC\n",
            "        algorithm.\n",
            "    \n",
            "      * method='median' assigns :math:`d(s,t)` like the ``centroid``\n",
            "        method. When two clusters :math:`s` and :math:`t` are combined\n",
            "        into a new cluster :math:`u`, the average of centroids s and t\n",
            "        give the new centroid :math:`u`. This is also known as the\n",
            "        WPGMC algorithm.\n",
            "    \n",
            "      * method='ward' uses the Ward variance minimization algorithm.\n",
            "        The new entry :math:`d(u,v)` is computed as follows,\n",
            "    \n",
            "        .. math::\n",
            "    \n",
            "           d(u,v) = \\sqrt{\\frac{|v|+|s|}\n",
            "                               {T}d(v,s)^2\n",
            "                        + \\frac{|v|+|t|}\n",
            "                               {T}d(v,t)^2\n",
            "                        - \\frac{|v|}\n",
            "                               {T}d(s,t)^2}\n",
            "    \n",
            "        where :math:`u` is the newly joined cluster consisting of\n",
            "        clusters :math:`s` and :math:`t`, :math:`v` is an unused\n",
            "        cluster in the forest, :math:`T=|v|+|s|+|t|`, and\n",
            "        :math:`|*|` is the cardinality of its argument. This is also\n",
            "        known as the incremental algorithm.\n",
            "    \n",
            "    Warning: When the minimum distance pair in the forest is chosen, there\n",
            "    may be two or more pairs with the same minimum distance. This\n",
            "    implementation may choose a different minimum than the MATLAB\n",
            "    version.\n",
            "    \n",
            "    Parameters\n",
            "    ----------\n",
            "    y : ndarray\n",
            "        A condensed distance matrix. A condensed distance matrix\n",
            "        is a flat array containing the upper triangular of the distance matrix.\n",
            "        This is the form that ``pdist`` returns. Alternatively, a collection of\n",
            "        :math:`m` observation vectors in :math:`n` dimensions may be passed as\n",
            "        an :math:`m` by :math:`n` array. All elements of the condensed distance\n",
            "        matrix must be finite, i.e., no NaNs or infs.\n",
            "    method : str, optional\n",
            "        The linkage algorithm to use. See the ``Linkage Methods`` section below\n",
            "        for full descriptions.\n",
            "    metric : str or function, optional\n",
            "        The distance metric to use in the case that y is a collection of\n",
            "        observation vectors; ignored otherwise. See the ``pdist``\n",
            "        function for a list of valid distance metrics. A custom distance\n",
            "        function can also be used.\n",
            "    optimal_ordering : bool, optional\n",
            "        If True, the linkage matrix will be reordered so that the distance\n",
            "        between successive leaves is minimal. This results in a more intuitive\n",
            "        tree structure when the data are visualized. defaults to False, because\n",
            "        this algorithm can be slow, particularly on large datasets [2]_. See\n",
            "        also the `optimal_leaf_ordering` function.\n",
            "    \n",
            "        .. versionadded:: 1.0.0\n",
            "    \n",
            "    Returns\n",
            "    -------\n",
            "    Z : ndarray\n",
            "        The hierarchical clustering encoded as a linkage matrix.\n",
            "    \n",
            "    Notes\n",
            "    -----\n",
            "    1. For method 'single', an optimized algorithm based on minimum spanning\n",
            "       tree is implemented. It has time complexity :math:`O(n^2)`.\n",
            "       For methods 'complete', 'average', 'weighted' and 'ward', an algorithm\n",
            "       called nearest-neighbors chain is implemented. It also has time\n",
            "       complexity :math:`O(n^2)`.\n",
            "       For other methods, a naive algorithm is implemented with :math:`O(n^3)`\n",
            "       time complexity.\n",
            "       All algorithms use :math:`O(n^2)` memory.\n",
            "       Refer to [1]_ for details about the algorithms.\n",
            "    2. Methods 'centroid', 'median', and 'ward' are correctly defined only if\n",
            "       Euclidean pairwise metric is used. If `y` is passed as precomputed\n",
            "       pairwise distances, then it is the user's responsibility to assure that\n",
            "       these distances are in fact Euclidean, otherwise the produced result\n",
            "       will be incorrect.\n",
            "    \n",
            "    See Also\n",
            "    --------\n",
            "    scipy.spatial.distance.pdist : pairwise distance metrics\n",
            "    \n",
            "    References\n",
            "    ----------\n",
            "    .. [1] Daniel Mullner, \"Modern hierarchical, agglomerative clustering\n",
            "           algorithms\", :arXiv:`1109.2378v1`.\n",
            "    .. [2] Ziv Bar-Joseph, David K. Gifford, Tommi S. Jaakkola, \"Fast optimal\n",
            "           leaf ordering for hierarchical clustering\", 2001. Bioinformatics\n",
            "           :doi:`10.1093/bioinformatics/17.suppl_1.S22`\n",
            "    \n",
            "    Examples\n",
            "    --------\n",
            "    >>> from scipy.cluster.hierarchy import dendrogram, linkage\n",
            "    >>> from matplotlib import pyplot as plt\n",
            "    >>> X = [[i] for i in [2, 8, 0, 4, 1, 9, 9, 0]]\n",
            "    \n",
            "    >>> Z = linkage(X, 'ward')\n",
            "    >>> fig = plt.figure(figsize=(25, 10))\n",
            "    >>> dn = dendrogram(Z)\n",
            "    \n",
            "    >>> Z = linkage(X, 'single')\n",
            "    >>> fig = plt.figure(figsize=(25, 10))\n",
            "    >>> dn = dendrogram(Z)\n",
            "    >>> plt.show()\n",
            "\n"
          ]
        }
      ]
    },
    {
      "cell_type": "code",
      "source": [
        "help(dendrogram)"
      ],
      "metadata": {
        "colab": {
          "base_uri": "https://localhost:8080/"
        },
        "collapsed": true,
        "id": "mo6CqHMIXDzK",
        "outputId": "0dbfbd6f-1945-40e4-e12c-164ab57adf23"
      },
      "execution_count": null,
      "outputs": [
        {
          "output_type": "stream",
          "name": "stdout",
          "text": [
            "Help on function dendrogram in module scipy.cluster.hierarchy:\n",
            "\n",
            "dendrogram(Z, p=30, truncate_mode=None, color_threshold=None, get_leaves=True, orientation='top', labels=None, count_sort=False, distance_sort=False, show_leaf_counts=True, no_plot=False, no_labels=False, leaf_font_size=None, leaf_rotation=None, leaf_label_func=None, show_contracted=False, link_color_func=None, ax=None, above_threshold_color='C0')\n",
            "    Plot the hierarchical clustering as a dendrogram.\n",
            "    \n",
            "    The dendrogram illustrates how each cluster is\n",
            "    composed by drawing a U-shaped link between a non-singleton\n",
            "    cluster and its children. The top of the U-link indicates a\n",
            "    cluster merge. The two legs of the U-link indicate which clusters\n",
            "    were merged. The length of the two legs of the U-link represents\n",
            "    the distance between the child clusters. It is also the\n",
            "    cophenetic distance between original observations in the two\n",
            "    children clusters.\n",
            "    \n",
            "    Parameters\n",
            "    ----------\n",
            "    Z : ndarray\n",
            "        The linkage matrix encoding the hierarchical clustering to\n",
            "        render as a dendrogram. See the ``linkage`` function for more\n",
            "        information on the format of ``Z``.\n",
            "    p : int, optional\n",
            "        The ``p`` parameter for ``truncate_mode``.\n",
            "    truncate_mode : str, optional\n",
            "        The dendrogram can be hard to read when the original\n",
            "        observation matrix from which the linkage is derived is\n",
            "        large. Truncation is used to condense the dendrogram. There\n",
            "        are several modes:\n",
            "    \n",
            "        ``None``\n",
            "          No truncation is performed (default).\n",
            "          Note: ``'none'`` is an alias for ``None`` that's kept for\n",
            "          backward compatibility.\n",
            "    \n",
            "        ``'lastp'``\n",
            "          The last ``p`` non-singleton clusters formed in the linkage are the\n",
            "          only non-leaf nodes in the linkage; they correspond to rows\n",
            "          ``Z[n-p-2:end]`` in ``Z``. All other non-singleton clusters are\n",
            "          contracted into leaf nodes.\n",
            "    \n",
            "        ``'level'``\n",
            "          No more than ``p`` levels of the dendrogram tree are displayed.\n",
            "          A \"level\" includes all nodes with ``p`` merges from the final merge.\n",
            "    \n",
            "          Note: ``'mtica'`` is an alias for ``'level'`` that's kept for\n",
            "          backward compatibility.\n",
            "    \n",
            "    color_threshold : double, optional\n",
            "        For brevity, let :math:`t` be the ``color_threshold``.\n",
            "        Colors all the descendent links below a cluster node\n",
            "        :math:`k` the same color if :math:`k` is the first node below\n",
            "        the cut threshold :math:`t`. All links connecting nodes with\n",
            "        distances greater than or equal to the threshold are colored\n",
            "        with de default matplotlib color ``'C0'``. If :math:`t` is less\n",
            "        than or equal to zero, all nodes are colored ``'C0'``.\n",
            "        If ``color_threshold`` is None or 'default',\n",
            "        corresponding with MATLAB(TM) behavior, the threshold is set to\n",
            "        ``0.7*max(Z[:,2])``.\n",
            "    \n",
            "    get_leaves : bool, optional\n",
            "        Includes a list ``R['leaves']=H`` in the result\n",
            "        dictionary. For each :math:`i`, ``H[i] == j``, cluster node\n",
            "        ``j`` appears in position ``i`` in the left-to-right traversal\n",
            "        of the leaves, where :math:`j < 2n-1` and :math:`i < n`.\n",
            "    orientation : str, optional\n",
            "        The direction to plot the dendrogram, which can be any\n",
            "        of the following strings:\n",
            "    \n",
            "        ``'top'``\n",
            "          Plots the root at the top, and plot descendent links going downwards.\n",
            "          (default).\n",
            "    \n",
            "        ``'bottom'``\n",
            "          Plots the root at the bottom, and plot descendent links going\n",
            "          upwards.\n",
            "    \n",
            "        ``'left'``\n",
            "          Plots the root at the left, and plot descendent links going right.\n",
            "    \n",
            "        ``'right'``\n",
            "          Plots the root at the right, and plot descendent links going left.\n",
            "    \n",
            "    labels : ndarray, optional\n",
            "        By default, ``labels`` is None so the index of the original observation\n",
            "        is used to label the leaf nodes.  Otherwise, this is an :math:`n`-sized\n",
            "        sequence, with ``n == Z.shape[0] + 1``. The ``labels[i]`` value is the\n",
            "        text to put under the :math:`i` th leaf node only if it corresponds to\n",
            "        an original observation and not a non-singleton cluster.\n",
            "    count_sort : str or bool, optional\n",
            "        For each node n, the order (visually, from left-to-right) n's\n",
            "        two descendent links are plotted is determined by this\n",
            "        parameter, which can be any of the following values:\n",
            "    \n",
            "        ``False``\n",
            "          Nothing is done.\n",
            "    \n",
            "        ``'ascending'`` or ``True``\n",
            "          The child with the minimum number of original objects in its cluster\n",
            "          is plotted first.\n",
            "    \n",
            "        ``'descending'``\n",
            "          The child with the maximum number of original objects in its cluster\n",
            "          is plotted first.\n",
            "    \n",
            "        Note, ``distance_sort`` and ``count_sort`` cannot both be True.\n",
            "    distance_sort : str or bool, optional\n",
            "        For each node n, the order (visually, from left-to-right) n's\n",
            "        two descendent links are plotted is determined by this\n",
            "        parameter, which can be any of the following values:\n",
            "    \n",
            "        ``False``\n",
            "          Nothing is done.\n",
            "    \n",
            "        ``'ascending'`` or ``True``\n",
            "          The child with the minimum distance between its direct descendents is\n",
            "          plotted first.\n",
            "    \n",
            "        ``'descending'``\n",
            "          The child with the maximum distance between its direct descendents is\n",
            "          plotted first.\n",
            "    \n",
            "        Note ``distance_sort`` and ``count_sort`` cannot both be True.\n",
            "    show_leaf_counts : bool, optional\n",
            "         When True, leaf nodes representing :math:`k>1` original\n",
            "         observation are labeled with the number of observations they\n",
            "         contain in parentheses.\n",
            "    no_plot : bool, optional\n",
            "        When True, the final rendering is not performed. This is\n",
            "        useful if only the data structures computed for the rendering\n",
            "        are needed or if matplotlib is not available.\n",
            "    no_labels : bool, optional\n",
            "        When True, no labels appear next to the leaf nodes in the\n",
            "        rendering of the dendrogram.\n",
            "    leaf_rotation : double, optional\n",
            "        Specifies the angle (in degrees) to rotate the leaf\n",
            "        labels. When unspecified, the rotation is based on the number of\n",
            "        nodes in the dendrogram (default is 0).\n",
            "    leaf_font_size : int, optional\n",
            "        Specifies the font size (in points) of the leaf labels. When\n",
            "        unspecified, the size based on the number of nodes in the\n",
            "        dendrogram.\n",
            "    leaf_label_func : lambda or function, optional\n",
            "        When ``leaf_label_func`` is a callable function, for each\n",
            "        leaf with cluster index :math:`k < 2n-1`. The function\n",
            "        is expected to return a string with the label for the\n",
            "        leaf.\n",
            "    \n",
            "        Indices :math:`k < n` correspond to original observations\n",
            "        while indices :math:`k \\geq n` correspond to non-singleton\n",
            "        clusters.\n",
            "    \n",
            "        For example, to label singletons with their node id and\n",
            "        non-singletons with their id, count, and inconsistency\n",
            "        coefficient, simply do::\n",
            "    \n",
            "            # First define the leaf label function.\n",
            "            def llf(id):\n",
            "                if id < n:\n",
            "                    return str(id)\n",
            "                else:\n",
            "                    return '[%d %d %1.2f]' % (id, count, R[n-id,3])\n",
            "    \n",
            "            # The text for the leaf nodes is going to be big so force\n",
            "            # a rotation of 90 degrees.\n",
            "            dendrogram(Z, leaf_label_func=llf, leaf_rotation=90)\n",
            "    \n",
            "            # leaf_label_func can also be used together with ``truncate_mode`` parameter,\n",
            "            # in which case you will get your leaves labeled after truncation:\n",
            "            dendrogram(Z, leaf_label_func=llf, leaf_rotation=90,\n",
            "                       truncate_mode='level', p=2)\n",
            "    \n",
            "    show_contracted : bool, optional\n",
            "        When True the heights of non-singleton nodes contracted\n",
            "        into a leaf node are plotted as crosses along the link\n",
            "        connecting that leaf node.  This really is only useful when\n",
            "        truncation is used (see ``truncate_mode`` parameter).\n",
            "    link_color_func : callable, optional\n",
            "        If given, `link_color_function` is called with each non-singleton id\n",
            "        corresponding to each U-shaped link it will paint. The function is\n",
            "        expected to return the color to paint the link, encoded as a matplotlib\n",
            "        color string code. For example::\n",
            "    \n",
            "            dendrogram(Z, link_color_func=lambda k: colors[k])\n",
            "    \n",
            "        colors the direct links below each untruncated non-singleton node\n",
            "        ``k`` using ``colors[k]``.\n",
            "    ax : matplotlib Axes instance, optional\n",
            "        If None and `no_plot` is not True, the dendrogram will be plotted\n",
            "        on the current axes.  Otherwise if `no_plot` is not True the\n",
            "        dendrogram will be plotted on the given ``Axes`` instance. This can be\n",
            "        useful if the dendrogram is part of a more complex figure.\n",
            "    above_threshold_color : str, optional\n",
            "        This matplotlib color string sets the color of the links above the\n",
            "        color_threshold. The default is ``'C0'``.\n",
            "    \n",
            "    Returns\n",
            "    -------\n",
            "    R : dict\n",
            "        A dictionary of data structures computed to render the\n",
            "        dendrogram. Its has the following keys:\n",
            "    \n",
            "        ``'color_list'``\n",
            "          A list of color names. The k'th element represents the color of the\n",
            "          k'th link.\n",
            "    \n",
            "        ``'icoord'`` and ``'dcoord'``\n",
            "          Each of them is a list of lists. Let ``icoord = [I1, I2, ..., Ip]``\n",
            "          where ``Ik = [xk1, xk2, xk3, xk4]`` and ``dcoord = [D1, D2, ..., Dp]``\n",
            "          where ``Dk = [yk1, yk2, yk3, yk4]``, then the k'th link painted is\n",
            "          ``(xk1, yk1)`` - ``(xk2, yk2)`` - ``(xk3, yk3)`` - ``(xk4, yk4)``.\n",
            "    \n",
            "        ``'ivl'``\n",
            "          A list of labels corresponding to the leaf nodes.\n",
            "    \n",
            "        ``'leaves'``\n",
            "          For each i, ``H[i] == j``, cluster node ``j`` appears in position\n",
            "          ``i`` in the left-to-right traversal of the leaves, where\n",
            "          :math:`j < 2n-1` and :math:`i < n`. If ``j`` is less than ``n``, the\n",
            "          ``i``-th leaf node corresponds to an original observation.\n",
            "          Otherwise, it corresponds to a non-singleton cluster.\n",
            "    \n",
            "        ``'leaves_color_list'``\n",
            "          A list of color names. The k'th element represents the color of the\n",
            "          k'th leaf.\n",
            "    \n",
            "    See Also\n",
            "    --------\n",
            "    linkage, set_link_color_palette\n",
            "    \n",
            "    Notes\n",
            "    -----\n",
            "    It is expected that the distances in ``Z[:,2]`` be monotonic, otherwise\n",
            "    crossings appear in the dendrogram.\n",
            "    \n",
            "    Examples\n",
            "    --------\n",
            "    >>> import numpy as np\n",
            "    >>> from scipy.cluster import hierarchy\n",
            "    >>> import matplotlib.pyplot as plt\n",
            "    \n",
            "    A very basic example:\n",
            "    \n",
            "    >>> ytdist = np.array([662., 877., 255., 412., 996., 295., 468., 268.,\n",
            "    ...                    400., 754., 564., 138., 219., 869., 669.])\n",
            "    >>> Z = hierarchy.linkage(ytdist, 'single')\n",
            "    >>> plt.figure()\n",
            "    >>> dn = hierarchy.dendrogram(Z)\n",
            "    \n",
            "    Now, plot in given axes, improve the color scheme and use both vertical and\n",
            "    horizontal orientations:\n",
            "    \n",
            "    >>> hierarchy.set_link_color_palette(['m', 'c', 'y', 'k'])\n",
            "    >>> fig, axes = plt.subplots(1, 2, figsize=(8, 3))\n",
            "    >>> dn1 = hierarchy.dendrogram(Z, ax=axes[0], above_threshold_color='y',\n",
            "    ...                            orientation='top')\n",
            "    >>> dn2 = hierarchy.dendrogram(Z, ax=axes[1],\n",
            "    ...                            above_threshold_color='#bcbddc',\n",
            "    ...                            orientation='right')\n",
            "    >>> hierarchy.set_link_color_palette(None)  # reset to default after use\n",
            "    >>> plt.show()\n",
            "\n"
          ]
        }
      ]
    },
    {
      "cell_type": "code",
      "source": [
        "x = [4,5,10,4,3,11,14,6,10,12]\n",
        "y = [21,19,24,17,16,25,24,22,21,21]\n",
        "\n",
        "data= list(zip(x,y))\n",
        "data"
      ],
      "metadata": {
        "colab": {
          "base_uri": "https://localhost:8080/"
        },
        "id": "ty_62WoaWjrS",
        "outputId": "2df5c137-ca16-423f-f350-2a9091c2b613"
      },
      "execution_count": null,
      "outputs": [
        {
          "output_type": "execute_result",
          "data": {
            "text/plain": [
              "[(4, 21),\n",
              " (5, 19),\n",
              " (10, 24),\n",
              " (4, 17),\n",
              " (3, 16),\n",
              " (11, 25),\n",
              " (14, 24),\n",
              " (6, 22),\n",
              " (10, 21),\n",
              " (12, 21)]"
            ]
          },
          "metadata": {},
          "execution_count": 6
        }
      ]
    },
    {
      "cell_type": "code",
      "source": [
        "linkage_data = linkage(data, method='ward', metric='euclidean')\n",
        "dendrogram(linkage_data)\n",
        "plt.show()\n"
      ],
      "metadata": {
        "colab": {
          "base_uri": "https://localhost:8080/",
          "height": 434
        },
        "id": "MnJ6DZYnWthi",
        "outputId": "2a71e1da-239a-4dbe-99cb-d7d228c589bd"
      },
      "execution_count": null,
      "outputs": [
        {
          "output_type": "display_data",
          "data": {
            "text/plain": [
              "<Figure size 640x480 with 1 Axes>"
            ],
            "image/png": "[encoded data removed]"
          },
          "metadata": {}
        }
      ]
    },
    {
      "cell_type": "code",
      "source": [
        "linkage_data = linkage(data, method='single', metric='euclidean')\n",
        "dendrogram(linkage_data)\n",
        "plt.show()"
      ],
      "metadata": {
        "colab": {
          "base_uri": "https://localhost:8080/",
          "height": 434
        },
        "id": "LyZgineDW8sD",
        "outputId": "8656bd9a-453b-4f78-f9ad-7bf2b9feed67"
      },
      "execution_count": null,
      "outputs": [
        {
          "output_type": "display_data",
          "data": {
            "text/plain": [
              "<Figure size 640x480 with 1 Axes>"
            ],
            "image/png": "[encoded data removed]"
          },
          "metadata": {}
        }
      ]
    },
    {
      "cell_type": "code",
      "source": [
        "linkage_data = linkage(data, method='complete', metric='euclidean')\n",
        "dendrogram(linkage_data)\n",
        "plt.show()"
      ],
      "metadata": {
        "colab": {
          "base_uri": "https://localhost:8080/",
          "height": 434
        },
        "id": "nnMk7JRXXgXT",
        "outputId": "ad568720-7953-422c-f1e9-fae89a82f0f8"
      },
      "execution_count": null,
      "outputs": [
        {
          "output_type": "display_data",
          "data": {
            "text/plain": [
              "<Figure size 640x480 with 1 Axes>"
            ],
            "image/png": "[encoded data removed]"
          },
          "metadata": {}
        }
      ]
    },
    {
      "cell_type": "code",
      "source": [
        "linkage_data = linkage(data, method='average', metric='euclidean')\n",
        "dendrogram(linkage_data)\n",
        "plt.show()"
      ],
      "metadata": {
        "colab": {
          "base_uri": "https://localhost:8080/",
          "height": 434
        },
        "id": "x9N7cW9MXsZa",
        "outputId": "f8903316-4d1d-4787-a70c-93e4ee72dd9b"
      },
      "execution_count": null,
      "outputs": [
        {
          "output_type": "display_data",
          "data": {
            "text/plain": [
              "<Figure size 640x480 with 1 Axes>"
            ],
            "image/png": "[encoded data removed]"
          },
          "metadata": {}
        }
      ]
    },
    {
      "cell_type": "markdown",
      "source": [
        "# **Sklearn Library**"
      ],
      "metadata": {
        "id": "cyjj1kBGX1Se"
      }
    },
    {
      "cell_type": "code",
      "source": [
        "from sklearn.cluster import AgglomerativeClustering"
      ],
      "metadata": {
        "id": "FqFuNMUbX4ck"
      },
      "execution_count": null,
      "outputs": []
    },
    {
      "cell_type": "code",
      "source": [
        "hierarchical_cluster = AgglomerativeClustering(n_clusters=2, affinity='euclidean', linkage='ward')\n",
        "label = hierarchical_cluster.fit_predict(data)\n",
        "label\n",
        "\n",
        "plt.scatter(x,y, c=label)\n",
        "plt.show()"
      ],
      "metadata": {
        "colab": {
          "base_uri": "https://localhost:8080/",
          "height": 485
        },
        "id": "lEqSKJDCX9fB",
        "outputId": "7ab941de-df3f-4f16-e43d-a4d02b5d587e"
      },
      "execution_count": null,
      "outputs": [
        {
          "output_type": "stream",
          "name": "stderr",
          "text": [
            "/usr/local/lib/python3.10/dist-packages/sklearn/cluster/_agglomerative.py:983: FutureWarning: Attribute `affinity` was deprecated in version 1.2 and will be removed in 1.4. Use `metric` instead\n",
            "  warnings.warn(\n"
          ]
        },
        {
          "output_type": "display_data",
          "data": {
            "text/plain": [
              "<Figure size 640x480 with 1 Axes>"
            ],
            "image/png": "[encoded data removed]"
          },
          "metadata": {}
        }
      ]
    },
    {
      "cell_type": "code",
      "source": [
        "linkage_data = linkage(data, method='ward', metric='euclidean')\n",
        "dendrogram(linkage_data)\n",
        "plt.show()"
      ],
      "metadata": {
        "colab": {
          "base_uri": "https://localhost:8080/",
          "height": 434
        },
        "id": "Bt8QClukYXx-",
        "outputId": "dfa12719-3569-468b-bca3-d6f619c3a51c"
      },
      "execution_count": null,
      "outputs": [
        {
          "output_type": "display_data",
          "data": {
            "text/plain": [
              "<Figure size 640x480 with 1 Axes>"
            ],
            "image/png": "[encoded data removed]"
          },
          "metadata": {}
        }
      ]
    },
    {
      "cell_type": "code",
      "source": [
        "hier_cluster = AgglomerativeClustering(n_clusters=2, affinity='euclidean', linkage='ward')\n",
        "label = hier_cluster.fit_predict(data)\n",
        "label"
      ],
      "metadata": {
        "colab": {
          "base_uri": "https://localhost:8080/"
        },
        "id": "GfO40GrjYfbP",
        "outputId": "4410c5d2-9bfb-47ec-d609-c80f84d4db46"
      },
      "execution_count": null,
      "outputs": [
        {
          "output_type": "stream",
          "name": "stderr",
          "text": [
            "/usr/local/lib/python3.10/dist-packages/sklearn/cluster/_agglomerative.py:983: FutureWarning: Attribute `affinity` was deprecated in version 1.2 and will be removed in 1.4. Use `metric` instead\n",
            "  warnings.warn(\n"
          ]
        },
        {
          "output_type": "execute_result",
          "data": {
            "text/plain": [
              "array([0, 0, 1, 0, 0, 1, 1, 0, 1, 1])"
            ]
          },
          "metadata": {},
          "execution_count": 16
        }
      ]
    },
    {
      "cell_type": "code",
      "source": [
        "plt.scatter(x,y, c=label)\n",
        "plt.show()"
      ],
      "metadata": {
        "colab": {
          "base_uri": "https://localhost:8080/",
          "height": 430
        },
        "id": "rs0wwQh0Y4Zy",
        "outputId": "b64ded4d-6533-4209-d9c9-0d0307bd8e49"
      },
      "execution_count": null,
      "outputs": [
        {
          "output_type": "display_data",
          "data": {
            "text/plain": [
              "<Figure size 640x480 with 1 Axes>"
            ],
            "image/png": "[encoded data removed]"
          },
          "metadata": {}
        }
      ]
    }
  ]
}